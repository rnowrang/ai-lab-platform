{
 "cells": [
  {
   "cell_type": "markdown",
   "id": "1a2927b0",
   "metadata": {},
   "source": [
    "# GPU Availability and Benchmark Notebook\n",
    "\n",
    "This notebook:\n",
    "\n",
    "1. Attempts to detect a GPU via TensorFlow.\n",
    "2. If TensorFlow is not installed or no GPU is found, falls back to PyTorch.\n",
    "3. Runs a simple matrix multiplication benchmark on the detected GPU device."
   ]
  },
  {
   "cell_type": "code",
   "execution_count": 1,
   "id": "dab1d1e2",
   "metadata": {},
   "outputs": [
    {
     "name": "stdout",
     "output_type": "stream",
     "text": [
      "TensorFlow is not installed, falling back to PyTorch.\n",
      "CUDA available (PyTorch): True\n",
      "Using GPU: NVIDIA GeForce RTX 3090\n",
      "Average time per multiplication: 0.000010 seconds\n"
     ]
    }
   ],
   "source": [
    "import time\n",
    "\n",
    "# Flag to determine fallback\n",
    "use_torch = False\n",
    "\n",
    "try:\n",
    "    import tensorflow as tf\n",
    "    gpus = tf.config.list_physical_devices('GPU')\n",
    "    if gpus:\n",
    "        print('TensorFlow GPU detected:', gpus)\n",
    "        # You can run TensorFlow-specific benchmarks here if desired\n",
    "    else:\n",
    "        print('No GPU detected by TensorFlow, falling back to PyTorch.')\n",
    "        use_torch = True\n",
    "except ImportError:\n",
    "    print('TensorFlow is not installed, falling back to PyTorch.')\n",
    "    use_torch = True\n",
    "\n",
    "if use_torch:\n",
    "    try:\n",
    "        import torch\n",
    "        gpu_available = torch.cuda.is_available()\n",
    "        print(f'CUDA available (PyTorch): {gpu_available}')\n",
    "        if gpu_available:\n",
    "            device = torch.device('cuda')\n",
    "            print('Using GPU:', torch.cuda.get_device_name(0))\n",
    "            # Benchmark\n",
    "            size = 2048\n",
    "            mat = torch.rand((size, size), device=device)\n",
    "            # Warm-up\n",
    "            for _ in range(5): _ = mat @ mat\n",
    "            iterations = 10\n",
    "            start = time.time()\n",
    "            for _ in range(iterations): _ = mat @ mat\n",
    "            end = time.time()\n",
    "            print(f'Average time per multiplication: {(end - start) / iterations:.6f} seconds')\n",
    "        else:\n",
    "            print('PyTorch did not detect a GPU.')\n",
    "    except ImportError:\n",
    "        print('PyTorch is not installed.')"
   ]
  },
  {
   "cell_type": "code",
   "execution_count": null,
   "id": "103f9f70-38de-4b08-9791-8cdf81da492b",
   "metadata": {},
   "outputs": [],
   "source": []
  }
 ],
 "metadata": {
  "kernelspec": {
   "display_name": "Python 3 (ipykernel)",
   "language": "python",
   "name": "python3"
  },
  "language_info": {
   "codemirror_mode": {
    "name": "ipython",
    "version": 3
   },
   "file_extension": ".py",
   "mimetype": "text/x-python",
   "name": "python",
   "nbconvert_exporter": "python",
   "pygments_lexer": "ipython3",
   "version": "3.10.13"
  }
 },
 "nbformat": 4,
 "nbformat_minor": 5
}
