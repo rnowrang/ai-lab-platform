{
 "cells": [
  {
   "cell_type": "code",
   "execution_count": 1,
   "id": "e987c1ba-a264-4a25-ae9e-35767a5f1cd0",
   "metadata": {},
   "outputs": [
    {
     "name": "stderr",
     "output_type": "stream",
     "text": [
      "/opt/conda/lib/python3.10/site-packages/mlflow/utils/requirements_utils.py:20: UserWarning: pkg_resources is deprecated as an API. See https://setuptools.pypa.io/en/latest/pkg_resources.html. The pkg_resources package is slated for removal as early as 2025-11-30. Refrain from using this package or pin to Setuptools<81.\n",
      "  import pkg_resources  # noqa: TID251\n",
      "/opt/conda/lib/python3.10/site-packages/pydantic/_internal/_config.py:373: UserWarning: Valid config keys have changed in V2:\n",
      "* 'schema_extra' has been renamed to 'json_schema_extra'\n",
      "  warnings.warn(message, UserWarning)\n"
     ]
    },
    {
     "name": "stdout",
     "output_type": "stream",
     "text": [
      "✅ Using existing experiment: pytorch-shared-volume (ID: 6)\n",
      "🔧 Logging model to shared volume...\n",
      "✅ Experiment logged to MLflow successfully!\n",
      "🔗 View at: http://localhost:5000\n",
      "📁 Artifacts stored in: /shared/mlflow-artifacts\n"
     ]
    }
   ],
   "source": [
    "import mlflow\n",
    "import mlflow.pytorch\n",
    "import torch\n",
    "import torch.nn as nn\n",
    "\n",
    "# 1. Set the tracking URI \n",
    "mlflow.set_tracking_uri(\"http://mlflow:5000\")\n",
    "\n",
    "# 2. Create a new experiment with the correct shared volume artifact location\n",
    "experiment_name = \"pytorch-shared-volume\"\n",
    "try:\n",
    "    # Try to create experiment with shared volume artifact location\n",
    "    experiment_id = mlflow.create_experiment(\n",
    "        name=experiment_name,\n",
    "        artifact_location=\"file:///shared/mlflow-artifacts\"\n",
    "    )\n",
    "    print(f\"✅ Created new experiment: {experiment_name} (ID: {experiment_id})\")\n",
    "except mlflow.exceptions.MlflowException as e:\n",
    "    if \"already exists\" in str(e):\n",
    "        # Experiment already exists, get its ID\n",
    "        experiment_id = mlflow.get_experiment_by_name(experiment_name).experiment_id\n",
    "        print(f\"✅ Using existing experiment: {experiment_name} (ID: {experiment_id})\")\n",
    "    else:\n",
    "        raise e\n",
    "\n",
    "# 3. Set the experiment\n",
    "mlflow.set_experiment(experiment_name)\n",
    "\n",
    "# 4. Create a simple PyTorch model\n",
    "class SimpleModel(nn.Module):\n",
    "    def __init__(self):\n",
    "        super(SimpleModel, self).__init__()\n",
    "        self.linear = nn.Linear(10, 1)\n",
    "    \n",
    "    def forward(self, x):\n",
    "        return self.linear(x)\n",
    "\n",
    "# 5. Start MLflow run with the correct experiment\n",
    "with mlflow.start_run(run_name=\"Fixed MLflow Integration Test\"):\n",
    "    # Log hyperparameters\n",
    "    learning_rate = 0.01\n",
    "    epochs = 10\n",
    "    \n",
    "    mlflow.log_param(\"learning_rate\", learning_rate)\n",
    "    mlflow.log_param(\"epochs\", epochs)\n",
    "    \n",
    "    # Create and train model\n",
    "    model = SimpleModel()\n",
    "    \n",
    "    # Log metrics\n",
    "    mlflow.log_metric(\"accuracy\", 0.95)\n",
    "    mlflow.log_metric(\"loss\", 0.05)\n",
    "    \n",
    "    # This WILL work now! 🎉\n",
    "    print(\"🔧 Logging model to shared volume...\")\n",
    "    mlflow.pytorch.log_model(model, \"model\")\n",
    "    \n",
    "    print(\"✅ Experiment logged to MLflow successfully!\")\n",
    "    print(\"🔗 View at: http://localhost:5000\")\n",
    "    print(f\"📁 Artifacts stored in: /shared/mlflow-artifacts\")"
   ]
  },
  {
   "cell_type": "code",
   "execution_count": null,
   "id": "8447d77c-585c-4695-bce7-d731141ccce1",
   "metadata": {},
   "outputs": [],
   "source": []
  }
 ],
 "metadata": {
  "kernelspec": {
   "display_name": "Python 3 (ipykernel)",
   "language": "python",
   "name": "python3"
  },
  "language_info": {
   "codemirror_mode": {
    "name": "ipython",
    "version": 3
   },
   "file_extension": ".py",
   "mimetype": "text/x-python",
   "name": "python",
   "nbconvert_exporter": "python",
   "pygments_lexer": "ipython3",
   "version": "3.10.13"
  }
 },
 "nbformat": 4,
 "nbformat_minor": 5
}
