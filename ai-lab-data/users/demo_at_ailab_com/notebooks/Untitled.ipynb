{
 "cells": [
  {
   "cell_type": "code",
   "execution_count": 2,
   "id": "214236f5-92c3-46b5-8a3c-7a5dcb413083",
   "metadata": {},
   "outputs": [
    {
     "name": "stdout",
     "output_type": "stream",
     "text": [
      "✅ Using existing experiment: pytorch-shared-volume (ID: 6)\n",
      "🔧 Logging model to shared volume...\n",
      "✅ Experiment logged to MLflow successfully!\n",
      "🔗 View at: http://localhost:5000\n",
      "📁 Artifacts stored in: /shared/mlflow-artifacts\n"
     ]
    },
    {
     "name": "stderr",
     "output_type": "stream",
     "text": [
      "/opt/conda/lib/python3.10/site-packages/_distutils_hack/__init__.py:15: UserWarning: Distutils was imported before Setuptools, but importing Setuptools also replaces the `distutils` module in `sys.modules`. This may lead to undesirable behaviors or errors. To avoid these issues, avoid using distutils directly, ensure that setuptools is installed in the traditional way (e.g. not an editable install), and/or make sure that setuptools is always imported before distutils.\n",
      "  warnings.warn(\n",
      "/opt/conda/lib/python3.10/site-packages/_distutils_hack/__init__.py:30: UserWarning: Setuptools is replacing distutils. Support for replacing an already imported distutils is deprecated. In the future, this condition will fail. Register concerns at https://github.com/pypa/setuptools/issues/new?template=distutils-deprecation.yml\n",
      "  warnings.warn(\n"
     ]
    }
   ],
   "source": [
    "import mlflow\n",
    "import mlflow.pytorch\n",
    "import torch\n",
    "import torch.nn as nn\n",
    "\n",
    "# 1. Set the tracking URI \n",
    "mlflow.set_tracking_uri(\"http://mlflow:5000\")\n",
    "\n",
    "# 2. Create a new experiment with the correct shared volume artifact location\n",
    "experiment_name = \"pytorch-shared-volume\"\n",
    "try:\n",
    "    # Try to create experiment with shared volume artifact location\n",
    "    experiment_id = mlflow.create_experiment(\n",
    "        name=experiment_name,\n",
    "        artifact_location=\"file:///shared/mlflow-artifacts\"\n",
    "    )\n",
    "    print(f\"✅ Created new experiment: {experiment_name} (ID: {experiment_id})\")\n",
    "except mlflow.exceptions.MlflowException as e:\n",
    "    if \"already exists\" in str(e):\n",
    "        # Experiment already exists, get its ID\n",
    "        experiment_id = mlflow.get_experiment_by_name(experiment_name).experiment_id\n",
    "        print(f\"✅ Using existing experiment: {experiment_name} (ID: {experiment_id})\")\n",
    "    else:\n",
    "        raise e\n",
    "\n",
    "# 3. Set the experiment\n",
    "mlflow.set_experiment(experiment_name)\n",
    "\n",
    "# 4. Create a simple PyTorch model\n",
    "class SimpleModel(nn.Module):\n",
    "    def __init__(self):\n",
    "        super(SimpleModel, self).__init__()\n",
    "        self.linear = nn.Linear(10, 1)\n",
    "    \n",
    "    def forward(self, x):\n",
    "        return self.linear(x)\n",
    "\n",
    "# 5. Start MLflow run with the correct experiment\n",
    "with mlflow.start_run(run_name=\"Fixed MLflow Integration Test\"):\n",
    "    # Log hyperparameters\n",
    "    learning_rate = 0.01\n",
    "    epochs = 10\n",
    "    \n",
    "    mlflow.log_param(\"learning_rate\", learning_rate)\n",
    "    mlflow.log_param(\"epochs\", epochs)\n",
    "    \n",
    "    # Create and train model\n",
    "    model = SimpleModel()\n",
    "    \n",
    "    # Log metrics\n",
    "    mlflow.log_metric(\"accuracy\", 0.95)\n",
    "    mlflow.log_metric(\"loss\", 0.05)\n",
    "    \n",
    "    # This WILL work now! 🎉\n",
    "    print(\"🔧 Logging model to shared volume...\")\n",
    "    mlflow.pytorch.log_model(model, \"model\")\n",
    "    \n",
    "    print(\"✅ Experiment logged to MLflow successfully!\")\n",
    "    print(\"🔗 View at: http://localhost:5000\")\n",
    "    print(f\"📁 Artifacts stored in: /shared/mlflow-artifacts\")"
   ]
  }
 ],
 "metadata": {
  "kernelspec": {
   "display_name": "Python 3 (ipykernel)",
   "language": "python",
   "name": "python3"
  },
  "language_info": {
   "codemirror_mode": {
    "name": "ipython",
    "version": 3
   },
   "file_extension": ".py",
   "mimetype": "text/x-python",
   "name": "python",
   "nbconvert_exporter": "python",
   "pygments_lexer": "ipython3",
   "version": "3.10.13"
  }
 },
 "nbformat": 4,
 "nbformat_minor": 5
}
